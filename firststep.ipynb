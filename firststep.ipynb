{
  "nbformat": 4,
  "nbformat_minor": 0,
  "metadata": {
    "colab": {
      "name": "firststep.ipynb",
      "version": "0.3.2",
      "provenance": [],
      "include_colab_link": true
    },
    "kernelspec": {
      "name": "python3",
      "display_name": "Python 3"
    }
  },
  "cells": [
    {
      "cell_type": "markdown",
      "metadata": {
        "id": "view-in-github",
        "colab_type": "text"
      },
      "source": [
        "<a href=\"https://colab.research.google.com/github/turnip-python/colab/blob/master/firststep.ipynb\" target=\"_parent\"><img src=\"https://colab.research.google.com/assets/colab-badge.svg\" alt=\"Open In Colab\"/></a>"
      ]
    },
    {
      "cell_type": "markdown",
      "metadata": {
        "id": "DSNQdB7rqmkP",
        "colab_type": "text"
      },
      "source": [
        "# FIRST STEP"
      ]
    },
    {
      "cell_type": "code",
      "metadata": {
        "id": "N9leI0QRo_hG",
        "colab_type": "code",
        "colab": {}
      },
      "source": [
        "import pandas as pd\n",
        "\n",
        "training_df = pd.read_csv('https://raw.githubusercontent.com/turnip-python/colab/master/7974_2017.csv', encoding='sjis', skiprows=2, usecols=[0, 1, 2, 3, 5, 6],\n",
        "                          names=['date', 'open', 'high', 'low', 'volume', 'close'], index_col='date', parse_dates=['date'])[['open', 'high', 'low', 'close', 'volume']]\n",
        "test_df = pd.read_csv('https://raw.githubusercontent.com/turnip-python/colab/master/7974_2018.csv', encoding='sjis', skiprows=2, usecols=[0, 1, 2, 3, 5, 6],\n",
        "                          names=['date', 'open', 'high', 'low', 'volume', 'close'], index_col='date', parse_dates=['date'])[['open', 'high', 'low', 'close', 'volume']]"
      ],
      "execution_count": 0,
      "outputs": []
    },
    {
      "cell_type": "code",
      "metadata": {
        "id": "x-sT70W6u9cP",
        "colab_type": "code",
        "colab": {
          "base_uri": "https://localhost:8080/",
          "height": 453
        },
        "outputId": "9dc87f14-5167-476a-b0ee-2a94cd67f72e"
      },
      "source": [
        "display(training_df.head())\n",
        "display(test_df.head())"
      ],
      "execution_count": 43,
      "outputs": [
        {
          "output_type": "display_data",
          "data": {
            "text/html": [
              "<div>\n",
              "<style scoped>\n",
              "    .dataframe tbody tr th:only-of-type {\n",
              "        vertical-align: middle;\n",
              "    }\n",
              "\n",
              "    .dataframe tbody tr th {\n",
              "        vertical-align: top;\n",
              "    }\n",
              "\n",
              "    .dataframe thead th {\n",
              "        text-align: right;\n",
              "    }\n",
              "</style>\n",
              "<table border=\"1\" class=\"dataframe\">\n",
              "  <thead>\n",
              "    <tr style=\"text-align: right;\">\n",
              "      <th></th>\n",
              "      <th>open</th>\n",
              "      <th>high</th>\n",
              "      <th>low</th>\n",
              "      <th>close</th>\n",
              "      <th>volume</th>\n",
              "    </tr>\n",
              "    <tr>\n",
              "      <th>date</th>\n",
              "      <th></th>\n",
              "      <th></th>\n",
              "      <th></th>\n",
              "      <th></th>\n",
              "      <th></th>\n",
              "    </tr>\n",
              "  </thead>\n",
              "  <tbody>\n",
              "    <tr>\n",
              "      <th>2017-01-04</th>\n",
              "      <td>24540</td>\n",
              "      <td>24545</td>\n",
              "      <td>24330</td>\n",
              "      <td>24480</td>\n",
              "      <td>1437600</td>\n",
              "    </tr>\n",
              "    <tr>\n",
              "      <th>2017-01-05</th>\n",
              "      <td>24555</td>\n",
              "      <td>24840</td>\n",
              "      <td>23875</td>\n",
              "      <td>24085</td>\n",
              "      <td>2546200</td>\n",
              "    </tr>\n",
              "    <tr>\n",
              "      <th>2017-01-06</th>\n",
              "      <td>24000</td>\n",
              "      <td>24215</td>\n",
              "      <td>23920</td>\n",
              "      <td>24050</td>\n",
              "      <td>1443500</td>\n",
              "    </tr>\n",
              "    <tr>\n",
              "      <th>2017-01-10</th>\n",
              "      <td>24490</td>\n",
              "      <td>24530</td>\n",
              "      <td>24185</td>\n",
              "      <td>24370</td>\n",
              "      <td>1725900</td>\n",
              "    </tr>\n",
              "    <tr>\n",
              "      <th>2017-01-11</th>\n",
              "      <td>24650</td>\n",
              "      <td>25350</td>\n",
              "      <td>24580</td>\n",
              "      <td>25145</td>\n",
              "      <td>3224400</td>\n",
              "    </tr>\n",
              "  </tbody>\n",
              "</table>\n",
              "</div>"
            ],
            "text/plain": [
              "             open   high    low  close   volume\n",
              "date                                           \n",
              "2017-01-04  24540  24545  24330  24480  1437600\n",
              "2017-01-05  24555  24840  23875  24085  2546200\n",
              "2017-01-06  24000  24215  23920  24050  1443500\n",
              "2017-01-10  24490  24530  24185  24370  1725900\n",
              "2017-01-11  24650  25350  24580  25145  3224400"
            ]
          },
          "metadata": {
            "tags": []
          }
        },
        {
          "output_type": "display_data",
          "data": {
            "text/html": [
              "<div>\n",
              "<style scoped>\n",
              "    .dataframe tbody tr th:only-of-type {\n",
              "        vertical-align: middle;\n",
              "    }\n",
              "\n",
              "    .dataframe tbody tr th {\n",
              "        vertical-align: top;\n",
              "    }\n",
              "\n",
              "    .dataframe thead th {\n",
              "        text-align: right;\n",
              "    }\n",
              "</style>\n",
              "<table border=\"1\" class=\"dataframe\">\n",
              "  <thead>\n",
              "    <tr style=\"text-align: right;\">\n",
              "      <th></th>\n",
              "      <th>open</th>\n",
              "      <th>high</th>\n",
              "      <th>low</th>\n",
              "      <th>close</th>\n",
              "      <th>volume</th>\n",
              "    </tr>\n",
              "    <tr>\n",
              "      <th>date</th>\n",
              "      <th></th>\n",
              "      <th></th>\n",
              "      <th></th>\n",
              "      <th></th>\n",
              "      <th></th>\n",
              "    </tr>\n",
              "  </thead>\n",
              "  <tbody>\n",
              "    <tr>\n",
              "      <th>2018-01-04</th>\n",
              "      <td>42120</td>\n",
              "      <td>43250</td>\n",
              "      <td>41820</td>\n",
              "      <td>43210</td>\n",
              "      <td>2917700</td>\n",
              "    </tr>\n",
              "    <tr>\n",
              "      <th>2018-01-05</th>\n",
              "      <td>43600</td>\n",
              "      <td>43620</td>\n",
              "      <td>42500</td>\n",
              "      <td>42610</td>\n",
              "      <td>2493900</td>\n",
              "    </tr>\n",
              "    <tr>\n",
              "      <th>2018-01-09</th>\n",
              "      <td>43000</td>\n",
              "      <td>43470</td>\n",
              "      <td>42700</td>\n",
              "      <td>43140</td>\n",
              "      <td>2222100</td>\n",
              "    </tr>\n",
              "    <tr>\n",
              "      <th>2018-01-10</th>\n",
              "      <td>43390</td>\n",
              "      <td>44300</td>\n",
              "      <td>43000</td>\n",
              "      <td>44230</td>\n",
              "      <td>2446600</td>\n",
              "    </tr>\n",
              "    <tr>\n",
              "      <th>2018-01-11</th>\n",
              "      <td>43860</td>\n",
              "      <td>44140</td>\n",
              "      <td>43700</td>\n",
              "      <td>44120</td>\n",
              "      <td>1553600</td>\n",
              "    </tr>\n",
              "  </tbody>\n",
              "</table>\n",
              "</div>"
            ],
            "text/plain": [
              "             open   high    low  close   volume\n",
              "date                                           \n",
              "2018-01-04  42120  43250  41820  43210  2917700\n",
              "2018-01-05  43600  43620  42500  42610  2493900\n",
              "2018-01-09  43000  43470  42700  43140  2222100\n",
              "2018-01-10  43390  44300  43000  44230  2446600\n",
              "2018-01-11  43860  44140  43700  44120  1553600"
            ]
          },
          "metadata": {
            "tags": []
          }
        }
      ]
    }
  ]
}